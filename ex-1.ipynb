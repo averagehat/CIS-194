{
 "cells": [
  {
   "cell_type": "code",
   "execution_count": 1,
   "metadata": {
    "collapsed": true
   },
   "outputs": [],
   "source": [
    "-- CIS 194 Homework 2\n",
    "\n",
    "module Log where\n",
    "\n",
    "import Control.Applicative\n",
    "\n",
    "data MessageType = Info\n",
    "                 | Warning\n",
    "                 | Error Int\n",
    "  deriving (Show, Eq)\n",
    "\n",
    "type TimeStamp = Int\n",
    "\n",
    "data LogMessage = LogMessage MessageType TimeStamp String\n",
    "                | Unknown String\n",
    "  deriving (Show, Eq)\n",
    "\n",
    "data MessageTree = Leaf\n",
    "                 | Node MessageTree LogMessage MessageTree\n",
    "  deriving (Show, Eq)\n",
    "\n",
    "-- | @testParse p n f@ tests the log file parser @p@ by running it\n",
    "--   on the first @n@ lines of file @f@.\n",
    "testParse :: (String -> [LogMessage])\n",
    "          -> Int\n",
    "          -> FilePath\n",
    "          -> IO [LogMessage]\n",
    "(testParse parse n file = take n . parse <$> readFile file\n",
    "\n",
    "-- | @testWhatWentWrong p w f@ tests the log file parser @p@ and\n",
    "--   warning message extractor @w@ by running them on the log file\n",
    "--   @f@.\n",
    "testWhatWentWrong :: (String -> [LogMessage]))\n",
    "                  -> ([LogMessage] -> [String])\n",
    "                  -> FilePath\n",
    "                  -> IO [String]\n",
    "testWhatWentWrong parse whatWentWrong file\n",
    "  = whatWentWrong . parse <$> readFile file\n"
   ]
  },
  {
   "cell_type": "markdown",
   "metadata": {},
   "source": [
    "Pattern-matchng is possible using both lists (inc. strings) and data types. Pattern matching is order sensitive; e.g. in a recursive function, the base case appears first. \n",
    "It's possible to nest Pattern matching. It can be aliased with the \"Record Wildcards\" extension + named types.\n"
   ]
  },
  {
   "cell_type": "code",
   "execution_count": null,
   "metadata": {
    "collapsed": true
   },
   "outputs": [],
   "source": [
    "parseMessage' (s:xs) = \n",
    "   case s of \n",
    "    'E' -> LogMessage (Error i) (read (head ws) :: Int) $ unwords $ tail ws\n",
    "    'I' -> LogMessage Info i $ unwords ws\n",
    "    'W' -> LogMessage Warning i $ unwords ws\n",
    "     _  -> Unknown (s:xs)\n",
    "    where \n",
    "       (w:ws) = words xs\n",
    "       i = read w :: Int --indentation must be correct for multiple where vars\n",
    "            \n",
    "parseMessage' \"E 2 562 help help\" == LogMessage (Error 2) 562 \"help help\"\n",
    "parseMessage' \"I 29 la la la\" == LogMessage Info 29 \"la la la\""
   ]
  },
  {
   "cell_type": "markdown",
   "metadata": {},
   "source": [
    "Here we use destructuring `(s:xs)` Followed by pattern matching. This is not much different from\n",
    "```python\n",
    "s = next(gen)\n",
    "if s == 'E' ....\n",
    "else: Unknown [s] + gen\n",
    "```\n",
    "etc. However, we get problems in python because `next` drains the generator, changing its state. Haskell's pattern matching allows us to ask questions about the data without changing state; of course, casing `s` in this case will realize the head of the sequence. \n",
    "\n"
   ]
  },
  {
   "cell_type": "code",
   "execution_count": 2,
   "metadata": {
    "collapsed": false
   },
   "outputs": [
    {
     "data": {
      "text/plain": [
       "\"no-space\""
      ]
     },
     "metadata": {},
     "output_type": "display_data"
    },
    {
     "data": {
      "text/plain": [
       "\"space\""
      ]
     },
     "metadata": {},
     "output_type": "display_data"
    },
    {
     "data": {
      "text/plain": [
       "\"foobarbiz\""
      ]
     },
     "metadata": {},
     "output_type": "display_data"
    }
   ],
   "source": [
    "\n",
    "g (' ':xs) = \"space\"\n",
    "g _ = \"no-space\"\n",
    "g \"rad\"\n",
    "g \"  riz\"\n",
    "\n",
    "get (' ':xs) n = get xs $ n + 1\n",
    "get (x:xs) n   = x : get xs n\n",
    "get [] n =       []\n",
    "\n",
    "get \"foo bar biz\" 0\n"
   ]
  },
  {
   "cell_type": "code",
   "execution_count": 3,
   "metadata": {
    "collapsed": false,
    "scrolled": true
   },
   "outputs": [
    {
     "data": {
      "text/plain": [
       "True"
      ]
     },
     "metadata": {},
     "output_type": "display_data"
    },
    {
     "data": {
      "text/plain": [
       "True"
      ]
     },
     "metadata": {},
     "output_type": "display_data"
    }
   ],
   "source": [
    "afterNChars' :: Int -> Char -> String -> Int -> String\n",
    "\n",
    "--Examlpe of a parameterized function. Will give the rest of the string after \n",
    "-- `stop` occurrences of character `c` in the string. The first two arguments parameterize the funciton.\n",
    "afterNChars' _ _ [] _ = []\n",
    "afterNChars' stop c (x:xs) n \n",
    "    | x == c    =  if n + 1 /= stop then recur xs $ n + 1 else xs\n",
    "    | otherwise = recur xs n\n",
    "  where recur = afterNChars' stop c\n",
    "\n",
    "--afterNChars' 1 'X' \"XfooXbarXbizXbaz\" 0 \n",
    "--after3Spaces = afterNChars' 3 ' ' \n",
    "\n",
    "msgType :: Char -> [String] -> (MessageType, Int, Int)\n",
    "msgType    'E' (n:ts:xs) = (Error (read n :: Int), read ts :: Int, 3)\n",
    "msgType    'W' (ts:xs)   = (Warning, read ts :: Int, 2)\n",
    "msgType    'I' (ts:xs)   = (Info, read ts :: Int, 2)\n",
    "\n",
    "parseMessage s = \n",
    "  LogMessage e ts m\n",
    "  where \n",
    "    (w:ws) = words s\n",
    "    (e, ts, i) = msgType (head w) ws -- tuple unpacking works like in python!\n",
    "    m          = afterNChars' i ' ' s 0\n",
    "    \n",
    "parseMessage \"E 2 562 help help\" == LogMessage (Error 2) 562 \"help help\"\n",
    "parseMessage \"I 29 la la la\" == LogMessage Info 29 \"la la la\"\n",
    "\n",
    "-- unlike core.match, vars won't be bound (be looked up or have meaning) in pattern matches!"
   ]
  },
  {
   "cell_type": "code",
   "execution_count": 5,
   "metadata": {
    "collapsed": false,
    "scrolled": true
   },
   "outputs": [],
   "source": [
    "parse' = map parseMessage' . lines\n",
    "insert' (Unknown _) t = t\n",
    "insert' new Leaf = Node Leaf new Leaf\n",
    "insert' n@(LogMessage _ nts _) (Node left c@(LogMessage _ ts _) right )\n",
    "     | nts >= ts =  Node left c $ insert' n right\n",
    "     | otherwise =  Node (insert' n left) c right\n",
    "            \n",
    "-- build $ testParse parse' 10 \"error.log\" \n",
    "\n",
    "build :: [LogMessage] -> MessageTree\n",
    "build = foldl (flip insert') Leaf "
   ]
  },
  {
   "cell_type": "markdown",
   "metadata": {},
   "source": [
    "Here we introduce the `@` character, which acts like `:as` in core.matched--aliasing the entire destructured object whilst allowing pattern match/destructuring on in its innards!\n",
    "We also have guards, represented by cases started with `|`.\n",
    "`insert'` is a simple recursive function."
   ]
  },
  {
   "cell_type": "markdown",
   "metadata": {},
   "source": [
    "Couldn't match expected type ‘[LogMessage]’ with actual type ‘IO [LogMessage]’\n",
    "In the second argument of ‘($)’, namely ‘testParse parse' 10 \"error.log\"’\n",
    "In the expression: build $ testParse parse' 10 \"error.log\"\n"
   ]
  },
  {
   "cell_type": "code",
   "execution_count": 43,
   "metadata": {
    "collapsed": false
   },
   "outputs": [],
   "source": [
    "\n",
    "--testBuild build parse n file = build . take n . parse <$> readFile file\n",
    "\n",
    "-- this is a fold\n",
    "-- inOrder t = inOrder' t []  -- fip inOrder' [] \n",
    "\n",
    "inOrder' :: MessageTree -> [LogMessage] -> [LogMessage]\n",
    "inOrder' Leaf acc = acc\n",
    "inOrder' (Node Leaf e r) acc = inOrder' r (e:acc)\n",
    "inOrder' (Node l e r) acc = (inOrder' l acc) ++ [e] ++ (inOrder' r acc)\n",
    "\n",
    "-- simpler version, don't need an accumulator\n",
    "inOrder Leaf = []\n",
    "inOrder (Node l e r) = inOrder l ++ [e] ++ inOrder r\n"
   ]
  },
  {
   "cell_type": "markdown",
   "metadata": {},
   "source": [
    "`inOrder'` takes a tree and returns the list representing an in-order traversal of that tree. "
   ]
  },
  {
   "cell_type": "code",
   "execution_count": 45,
   "metadata": {
    "collapsed": false
   },
   "outputs": [
    {
     "data": {
      "text/plain": [
       "[LogMessage Info 11 \"Initiating self-destruct sequence\",LogMessage (Error 99) 10 \"Flange failed!\",LogMessage Info 9 \"Back from lunch\"]"
      ]
     },
     "metadata": {},
     "output_type": "display_data"
    }
   ],
   "source": [
    "take 3 . reverse .  inOrder . build . parse' <$> readFile \"sample.log\"\n"
   ]
  },
  {
   "cell_type": "code",
   "execution_count": 40,
   "metadata": {
    "collapsed": false,
    "scrolled": true
   },
   "outputs": [
    {
     "data": {
      "text/plain": [
       "[\"Way too many pickles\",\"Bad pickle-flange interaction detected\",\"Flange failed!\"]"
      ]
     },
     "metadata": {},
     "output_type": "display_data"
    },
    {
     "data": {
      "text/plain": [
       "[\"Mustardwatch opened, please close for proper functioning!\",\"All backup mustardwatches are busy\",\"Depletion of mustard stores detected!\",\"Hard drive failure: insufficient mustard\",\"Twenty seconds remaining until out-of-mustard condition\",\"Ten seconds remaining until out-of-mustard condition\",\"Empty mustard reservoir! Attempting to recover...\",\"Recovery failed! Initiating shutdown sequence\"]"
      ]
     },
     "metadata": {},
     "output_type": "display_data"
    }
   ],
   "source": [
    "-- take 10 . inOrder . build .  parse' <$> readFile \"error.log\"\n",
    "-- build .  take 10 . parse' <$> readFile \"error.log\"\n",
    "whatWentWrong :: [LogMessage] -> [String]\n",
    "\n",
    "whatWentWrong = filter (/= []) . map matters . inOrder . build\n",
    " --  where matters (LogMessage  ts msg) = if ts > 50 then msg else []\n",
    "      where matters (LogMessage (Error n) _ msg) = if n > 50 then msg else []\n",
    "            matters _ = []\n",
    "\n",
    "testWhatWentWrong  parse' whatWentWrong \"sample.log\" -- IO == [\"Way too many pickles\",\"Bad pickle-flange interaction detected\",\"Flange failed!\"]\n",
    "\n",
    "testWhatWentWrong  parse' whatWentWrong \"error.log\"\n",
    "\n",
    "-- https://www.youtube.com/watch?v=yYcFJLl6JZs&index=1&list=RDyYcFJLl6JZs\n",
    "-- Mad Watch :)"
   ]
  }
 ],
 "metadata": {
  "kernelspec": {
   "display_name": "Haskell",
   "language": "haskell",
   "name": "haskell"
  },
  "language_info": {
   "codemirror_mode": "ihaskell",
   "file_extension": ".hs",
   "name": "haskell",
   "version": "7.10.2"
  }
 },
 "nbformat": 4,
 "nbformat_minor": 0
}
